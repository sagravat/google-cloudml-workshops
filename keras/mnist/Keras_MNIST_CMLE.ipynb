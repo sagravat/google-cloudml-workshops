{
 "cells": [
  {
   "cell_type": "markdown",
   "metadata": {},
   "source": [
    "## Run training on CMLE and test the online prediction service"
   ]
  },
  {
   "cell_type": "code",
   "execution_count": 145,
   "metadata": {},
   "outputs": [],
   "source": [
    "import os\n",
    "\n",
    "REGION = \"\"\n",
    "TFVERSION = \"1.8\"\n",
    "BUCKET = \"\"\n",
    "DATA_DIR = \"\"\n",
    "MODEL_DIR = \"\"\n",
    "MODEL_NAME = \"\" # no hyphens in model name\n",
    "MODEL_VERSION = \"\"\n",
    "JOBDIR = \"gs://$BUCKET/$MODEL_DIR/job\"\n",
    "JOBNAME= \"keras_mnist_$(date -u +%y%m%d_%H%M%S)\"\n",
    "\n",
    "\n",
    "os.environ['REGION'] = REGION\n",
    "os.environ['TFVERSION'] = TFVERSION\n",
    "os.environ['BUCKET'] = BUCKET\n",
    "os.environ['DATA_DIR'] = DATA_DIR\n",
    "os.environ['MODEL_DIR'] = MODEL_DIR\n",
    "os.environ['MODEL_NAME'] = MODEL_NAME\n",
    "os.environ['MODEL_VERSION'] = MODEL_VERSION\n",
    "os.environ['JOBDIR'] = JOBDIR\n",
    "os.environ['JOBNAME'] = JOBNAME\n",
    "\n"
   ]
  },
  {
   "cell_type": "markdown",
   "metadata": {},
   "source": [
    "## Run the training job. Adjust train_steps as needed"
   ]
  },
  {
   "cell_type": "code",
   "execution_count": null,
   "metadata": {},
   "outputs": [],
   "source": [
    "!gcloud ml-engine jobs submit training $JOBNAME \\\n",
    "   --region=$REGION \\\n",
    "   --module-name=trainer.main \\\n",
    "   --package-path=\"$(pwd)/trainer\" \\\n",
    "   --job-dir=$JOBDIR \\\n",
    "   --staging-bucket=gs://$BUCKET \\\n",
    "   --runtime-version=$TFVERSION \\\n",
    "   -- \\\n",
    "   --data_dir=gs://$BUCKET/$DATA_DIR \\\n",
    "   --model_dir=gs://$BUCKET/$MODEL_DIR \\\n",
    "   --export_dir=gs://$BUCKET/$MODEL_DIR \\\n",
    "   --train_steps=1000"
   ]
  },
  {
   "cell_type": "code",
   "execution_count": null,
   "metadata": {},
   "outputs": [],
   "source": [
    "!gcloud ml-engine jobs stream-logs $JOBNAME"
   ]
  },
  {
   "cell_type": "markdown",
   "metadata": {},
   "source": [
    "## Export the model location"
   ]
  },
  {
   "cell_type": "code",
   "execution_count": 184,
   "metadata": {},
   "outputs": [],
   "source": [
    "%%bash --out MODEL_LOCATION\n",
    "\n",
    "MODEL_LOCATION=$(gsutil ls gs://$BUCKET/$MODEL_DIR/export/ | tail -1)\n",
    "echo $MODEL_LOCATION"
   ]
  },
  {
   "cell_type": "code",
   "execution_count": null,
   "metadata": {},
   "outputs": [],
   "source": [
    "print(MODEL_LOCATION)"
   ]
  },
  {
   "cell_type": "markdown",
   "metadata": {},
   "source": [
    "## Create the model in CMLE"
   ]
  },
  {
   "cell_type": "code",
   "execution_count": null,
   "metadata": {},
   "outputs": [],
   "source": [
    "!gcloud ml-engine models create $MODEL_NAME --regions $REGION"
   ]
  },
  {
   "cell_type": "markdown",
   "metadata": {},
   "source": [
    "## Create the versioned model with the model location"
   ]
  },
  {
   "cell_type": "code",
   "execution_count": null,
   "metadata": {},
   "outputs": [],
   "source": [
    "!gcloud ml-engine versions create $MODEL_VERSION --model $MODEL_NAME --runtime-version $TFVERSION --origin $MODEL_LOCATION"
   ]
  },
  {
   "cell_type": "markdown",
   "metadata": {},
   "source": [
    "## Generate sample data to test"
   ]
  },
  {
   "cell_type": "code",
   "execution_count": 197,
   "metadata": {},
   "outputs": [
    {
     "name": "stdout",
     "output_type": "stream",
     "text": [
      "Extracting mnist/data/train-images-idx3-ubyte.gz\n",
      "Extracting mnist/data/train-labels-idx1-ubyte.gz\n",
      "Extracting mnist/data/t10k-images-idx3-ubyte.gz\n",
      "Extracting mnist/data/t10k-labels-idx1-ubyte.gz\n"
     ]
    },
    {
     "data": {
      "image/png": "[encoded data removed]",
      "text/plain": [
       "<matplotlib.figure.Figure at 0x7f6636962f50>"
      ]
     },
     "metadata": {},
     "output_type": "display_data"
    }
   ],
   "source": [
    "import json, codecs\n",
    "import matplotlib.pyplot as plt\n",
    "from tensorflow.examples.tutorials.mnist import input_data\n",
    "\n",
    "HEIGHT=28\n",
    "WIDTH=28\n",
    "\n",
    "mnist = input_data.read_data_sets('mnist/data', one_hot=True, reshape=False)\n",
    "IMGNO=5 #CHANGE THIS to get different images\n",
    "jsondata = {'X': mnist.test.images[IMGNO].reshape(HEIGHT, WIDTH).tolist()}\n",
    "json.dump(jsondata, codecs.open('test.json', 'w', encoding='utf-8'))\n",
    "plt.imshow(mnist.test.images[IMGNO].reshape(HEIGHT, WIDTH));"
   ]
  },
  {
   "cell_type": "code",
   "execution_count": 198,
   "metadata": {},
   "outputs": [
    {
     "name": "stdout",
     "output_type": "stream",
     "text": [
      "DENSE_3\r\n",
      "[[0.08580759912729263, 0.12363497167825699, 0.09535027295351028, 0.09899786859750748, 0.10415774583816528, 0.10815949738025665, 0.09799060225486755, 0.10332376509904861, 0.08739430457353592, 0.09518339484930038]]\r\n"
     ]
    }
   ],
   "source": [
    "!gcloud ml-engine predict \\\n",
    "   --model=$MODEL_NAME \\\n",
    "   --version=$MODEL_VERSION \\\n",
    "   --json-instances=./test.json"
   ]
  },
  {
   "cell_type": "code",
   "execution_count": null,
   "metadata": {},
   "outputs": [],
   "source": []
  }
 ],
 "metadata": {
  "kernelspec": {
   "display_name": "Python 2",
   "language": "python",
   "name": "python2"
  },
  "language_info": {
   "codemirror_mode": {
    "name": "ipython",
    "version": 2
   },
   "file_extension": ".py",
   "mimetype": "text/x-python",
   "name": "python",
   "nbconvert_exporter": "python",
   "pygments_lexer": "ipython2",
   "version": "2.7.15"
  }
 },
 "nbformat": 4,
 "nbformat_minor": 2
}
